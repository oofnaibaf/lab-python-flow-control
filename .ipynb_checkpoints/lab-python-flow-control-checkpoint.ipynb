{
 "cells": [
  {
   "cell_type": "markdown",
   "id": "d3bfc191-8885-42ee-b0a0-bbab867c6f9f",
   "metadata": {
    "tags": []
   },
   "source": [
    "# Lab | Flow Control"
   ]
  },
  {
   "cell_type": "markdown",
   "id": "3851fcd1-cf98-4653-9c89-e003b7ec9400",
   "metadata": {},
   "source": [
    "## Exercise: Managing Customer Orders Optimized\n",
    "\n",
    "In the last lab, you were starting an online store that sells various products. To ensure smooth operations, you developed a program that manages customer orders and inventory.\n",
    "\n",
    "You did so without using flow control. Let's go a step further and improve this code.\n",
    "\n",
    "Follow the steps below to complete the exercise:\n",
    "\n",
    "1. Look at your code from the lab data structures, and improve repeated code with loops.\n",
    "\n",
    "2. Instead of asking the user to input the name of three products that a customer wants to order, do the following:\n",
    "    \n",
    "    a. Prompt the user to enter the name of a product that a customer wants to order.\n",
    "    \n",
    "    b. Add the product name to the \"customer_orders\" set.\n",
    "    \n",
    "    c. Ask the user if they want to add another product (yes/no).\n",
    "    \n",
    "    d. Continue the loop until the user does not want to add another product.\n",
    "\n",
    "3. Instead of updating the inventory by subtracting 1 from the quantity of each product, only do it for  the products that were ordered (those in \"customer_orders\")."
   ]
  },
  {
   "cell_type": "code",
   "execution_count": 1,
   "id": "79a221f1-2fb8-4249-bc3f-f9ffa4641dfa",
   "metadata": {},
   "outputs": [
    {
     "name": "stdin",
     "output_type": "stream",
     "text": [
      "Enter the quantity for Apple:  10\n",
      "Enter the quantity for Banana:  10\n",
      "Enter the quantity for Orange:  10\n",
      "Enter the quantity for Grapes:  10\n",
      "Enter the product name to order:  Grapes\n",
      "Do you want to add another product? (yes/no):  yes\n",
      "Enter the product name to order:  Apple\n",
      "Do you want to add another product? (yes/no):  no\n"
     ]
    },
    {
     "name": "stdout",
     "output_type": "stream",
     "text": [
      "Total products ordered: 2\n",
      "Percentage of unique products ordered: 100.00%\n",
      "Updated Inventory:\n",
      "Apple: 9\n",
      "Banana: 10\n",
      "Orange: 10\n",
      "Grapes: 9\n"
     ]
    }
   ],
   "source": [
    "# ALL INVENTORY FUNCTIONS START \n",
    "\n",
    "# 1 Initializes inventory dictionary based on user input. \n",
    "def init_inventory(products):\n",
    "    inventory = {}\n",
    "    for product in products:\n",
    "        quantity = int(input(f\"Enter the quantity for {product}: \"))\n",
    "        inventory[product] = quantity\n",
    "    return inventory\n",
    "\n",
    "\n",
    "# 6 Prints the updated inventory.\n",
    "def print_updated_inventory(inventory):   \n",
    "    print(\"Updated Inventory:\")\n",
    "    for product, quantity in inventory.items():\n",
    "        print(f\"{product}: {quantity}\")\n",
    "\n",
    "\n",
    "# 3 Updates the inventory dictionary based on customer orders.\n",
    "def update_inventory(customer_orders, inventory):\n",
    "    for order in customer_orders:\n",
    "        if order in inventory:\n",
    "            inventory[order] -= 1  # Reduce the inventory by 1 for each order\n",
    "            if inventory[order] < 0:\n",
    "                inventory[order] = 0  # Ensure inventory does not go below zero\n",
    "        else:\n",
    "            print(f\"Warning: {order} is not available in inventory.\")\n",
    "\n",
    "# ALL INVENTORY FUNCTIONS END\n",
    "\n",
    "\n",
    "# ALL Customer FUNCTIONS START\n",
    "\n",
    "# 2 Prompts the user to enter product names and returns a set of customer orders.\n",
    "def get_cust_orders():\n",
    "    customer_orders = set()\n",
    "    while True:\n",
    "        # a. Prompt user to enter the product name.\n",
    "        product_name = input(\"Enter the product name to order: \")\n",
    "        customer_orders.add(product_name)  # b. Add product name to set.\n",
    "        \n",
    "        # c. Ask if they want to add another product.\n",
    "        add_another = input(\"Do you want to add another product? (yes/no): \")\n",
    "        if add_another.lower() != 'yes':\n",
    "            break\n",
    "            \n",
    "    return customer_orders\n",
    "\n",
    "\n",
    "# Calculates order statistics: total products ordered and percentage of unique products ordered.\n",
    "def calc_order_stats(customer_orders, products):\n",
    "    total_products_ordered = len(customer_orders)  # Total unique products ordered\n",
    "    unique_products_ordered = len(set(customer_orders))\n",
    "    percentage_unique = (unique_products_ordered / total_products_ordered * 100) if total_products_ordered > 0 else 0\n",
    "    return total_products_ordered, percentage_unique\n",
    "\n",
    "\n",
    "# Prints the order statistics.\n",
    "def print_order_stats(order_statistics):\n",
    "    total_ordered, percentage_unique = order_statistics\n",
    "    print(f\"Total products ordered: {total_ordered}\")\n",
    "    print(f\"Percentage of unique products ordered: {percentage_unique:.2f}%\")\n",
    "\n",
    "# ALL Customer FUNCTIONS END\n",
    "\n",
    "\n",
    "# Main execution sequence\n",
    "def main():\n",
    "    products = [\"Apple\", \"Banana\", \"Orange\", \"Grapes\"]  # Sample product list\n",
    "    inventory = init_inventory(products)\n",
    "    customer_orders = get_cust_orders()\n",
    "    update_inventory(customer_orders, inventory)\n",
    "    order_statistics = calc_order_stats(customer_orders, products)\n",
    "    print_order_stats(order_statistics)\n",
    "    print_updated_inventory(inventory)\n",
    "\n",
    "# Run the program\n",
    "if __name__ == \"__main__\":\n",
    "    main()\n"
   ]
  },
  {
   "cell_type": "code",
   "execution_count": null,
   "id": "46b0c36c-98b6-452b-9e38-e9b7502e8605",
   "metadata": {},
   "outputs": [],
   "source": []
  }
 ],
 "metadata": {
  "kernelspec": {
   "display_name": "Python 3 (ipykernel)",
   "language": "python",
   "name": "python3"
  },
  "language_info": {
   "codemirror_mode": {
    "name": "ipython",
    "version": 3
   },
   "file_extension": ".py",
   "mimetype": "text/x-python",
   "name": "python",
   "nbconvert_exporter": "python",
   "pygments_lexer": "ipython3",
   "version": "3.12.4"
  }
 },
 "nbformat": 4,
 "nbformat_minor": 5
}
